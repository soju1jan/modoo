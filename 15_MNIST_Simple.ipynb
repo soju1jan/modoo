{
  "nbformat": 4,
  "nbformat_minor": 0,
  "metadata": {
    "colab": {
      "name": "15_MNIST_Simple.ipynb",
      "provenance": [],
      "toc_visible": true,
      "mount_file_id": "1pMKGXPqbFDiVweApByikjUgPPNoBXhub",
      "authorship_tag": "ABX9TyPB2WCeb8zsyv7taYuYIzOY",
      "include_colab_link": true
    },
    "kernelspec": {
      "name": "python3",
      "display_name": "Python 3"
    }
  },
  "cells": [
    {
      "cell_type": "markdown",
      "metadata": {
        "id": "view-in-github",
        "colab_type": "text"
      },
      "source": [
        "<a href=\"https://colab.research.google.com/github/soju1jan/modoo/blob/master/15_MNIST_Simple.ipynb\" target=\"_parent\"><img src=\"https://colab.research.google.com/assets/colab-badge.svg\" alt=\"Open In Colab\"/></a>"
      ]
    },
    {
      "cell_type": "code",
      "metadata": {
        "id": "_IpEsO3r5_j7",
        "colab_type": "code",
        "colab": {
          "base_uri": "https://localhost:8080/",
          "height": 1000
        },
        "outputId": "fed16c00-ac83-4716-f6d0-934817c9c2d3"
      },
      "source": [
        "# ----------------------------------------------\n",
        "# MNIST 손글씨 인식\n",
        "# ----------------------------------------------\n",
        "\n",
        "from keras.datasets import mnist\n",
        "from keras.utils import np_utils\n",
        "from keras.models import Sequential\n",
        "from keras.layers import Dense\n",
        "from keras.callbacks import ModelCheckpoint,EarlyStopping\n",
        "\n",
        "import matplotlib.pyplot as plt\n",
        "import numpy\n",
        "import os\n",
        "import tensorflow as tf\n",
        "\n",
        "# seed 값 설정\n",
        "seed = 0\n",
        "numpy.random.seed(seed)\n",
        "tf.set_random_seed(seed)\n",
        "\n",
        "# MNIST 데이터 불러오기\n",
        "(X_train, Y_train), (X_test, Y_test) = mnist.load_data()\n",
        "X_train = X_train.reshape(X_train.shape[0],784).astype('float32') / 255\n",
        "X_test = X_test.reshape(X_test.shape[0],784).astype('float32') / 255\n",
        "Y_train = np_utils.to_categorical(Y_train, 10)\n",
        "Y_test = np_utils.to_categorical(Y_test, 10)\n",
        "\n",
        "# 모델 프레임 설정\n",
        "model = Sequential()\n",
        "model.add(Dense(512, input_dim=784, activation='relu'))\n",
        "model.add(Dense(10, activation='softmax'))\n",
        "\n",
        "# 모델 실행 환경 설정\n",
        "model.compile(loss='categorical_crossentropy', \n",
        "              optimizer='adam',\n",
        "              metrics=['accuracy'])\n",
        "\n",
        "# 모델 최적화 설정\n",
        "MODEL_DIR = './model/'\n",
        "if not os.path.exists(MODEL_DIR):\n",
        "    os.mkdir(MODEL_DIR)\n",
        "\n",
        "modelpath=\"./model/{epoch:02d}-{valloss:.4f}.hdf5\"\n",
        "checkpointer = ModelCheckpoint(filepath=modelpath, monitor='val_loss', \n",
        "                               verbose=1, save_best_only=True)\n",
        "\n",
        "early_stopping_callback = EarlyStopping(monitor='val_loss',\n",
        "                                        patience=10)\n",
        "# 모델 저장 폴더 설정 => 구글 드라이브에 저장\n",
        "MODEL_DIR = '/content/drive/My Drive/10_colab_dataset/model3/'\n",
        "if not os.path.exists(MODEL_DIR): \n",
        "  os.mkdir(MODEL_DIR)\n",
        "\n",
        "# # 모델 업데이트 및 저장\n",
        "modelpath=\"/content/drive/My Drive/10_colab_dataset/model3/{epoch:02d}-{val_loss:.4f}.hdf5\"\n",
        "checkpointer = ModelCheckpoint(filepath=modelpath, monitor='val_loss', \n",
        "                               verbose=1, save_best_only=True)\n",
        "early_stopping_callback = EarlyStopping(monitor='val_loss', \n",
        "                                        patience=10)\n",
        "\n",
        "# 모델의 실행\n",
        "history = model.fit(X_train, Y_train, validation_data=(X_test, Y_test), \n",
        "                    epochs=30, batch_size=200, verbose=0, \n",
        "                    callbacks=[early_stopping_callback,checkpointer])\n",
        "\n",
        "# 테스트 정확도 출력\n",
        "print(\"\\n Test Accuracy: %.4f\" % (model.evaluate(X_test, Y_test)[1]))\n",
        "\n",
        "# 테스트셋의 오차\n",
        "y_vloss = history.history['val_loss']\n",
        "\n",
        "# 학습셋의 오차\n",
        "y_loss = history.history['loss']\n",
        "\n",
        "# 그래프로 표현\n",
        "x_len = numpy.arange(len(y_loss))\n",
        "plt.plot(x_len, y_vloss, marker='.', c=\"red\", label='Testset loss')\n",
        "plt.plot(x_len, y_loss, marker='.', c=\"blue\", label='Trainset loss')\n",
        "\n",
        "# 그래프에 그리드를 주고 레이블을 표시\n",
        "plt.legend(loc='upper right')\n",
        "# plt.axis([0, 20, 0, 0.35])\n",
        "plt.grid()\n",
        "plt.xlabel('epoch')\n",
        "plt.ylabel('loss')\n",
        "plt.show()"
      ],
      "execution_count": 8,
      "outputs": [
        {
          "output_type": "stream",
          "text": [
            "\n",
            "Epoch 00001: val_loss improved from inf to 0.15488, saving model to /content/drive/My Drive/10_colab_dataset/model3/01-0.1549.hdf5\n",
            "\n",
            "Epoch 00002: val_loss improved from 0.15488 to 0.10488, saving model to /content/drive/My Drive/10_colab_dataset/model3/02-0.1049.hdf5\n",
            "\n",
            "Epoch 00003: val_loss improved from 0.10488 to 0.08429, saving model to /content/drive/My Drive/10_colab_dataset/model3/03-0.0843.hdf5\n",
            "\n",
            "Epoch 00004: val_loss improved from 0.08429 to 0.07928, saving model to /content/drive/My Drive/10_colab_dataset/model3/04-0.0793.hdf5\n",
            "\n",
            "Epoch 00005: val_loss improved from 0.07928 to 0.06677, saving model to /content/drive/My Drive/10_colab_dataset/model3/05-0.0668.hdf5\n",
            "\n",
            "Epoch 00006: val_loss improved from 0.06677 to 0.06498, saving model to /content/drive/My Drive/10_colab_dataset/model3/06-0.0650.hdf5\n",
            "\n",
            "Epoch 00007: val_loss did not improve from 0.06498\n",
            "\n",
            "Epoch 00008: val_loss improved from 0.06498 to 0.06421, saving model to /content/drive/My Drive/10_colab_dataset/model3/08-0.0642.hdf5\n",
            "\n",
            "Epoch 00009: val_loss improved from 0.06421 to 0.05790, saving model to /content/drive/My Drive/10_colab_dataset/model3/09-0.0579.hdf5\n",
            "\n",
            "Epoch 00010: val_loss did not improve from 0.05790\n",
            "\n",
            "Epoch 00011: val_loss did not improve from 0.05790\n",
            "\n",
            "Epoch 00012: val_loss did not improve from 0.05790\n",
            "\n",
            "Epoch 00013: val_loss did not improve from 0.05790\n",
            "\n",
            "Epoch 00014: val_loss did not improve from 0.05790\n",
            "\n",
            "Epoch 00015: val_loss did not improve from 0.05790\n",
            "\n",
            "Epoch 00016: val_loss did not improve from 0.05790\n",
            "\n",
            "Epoch 00017: val_loss did not improve from 0.05790\n",
            "\n",
            "Epoch 00018: val_loss did not improve from 0.05790\n",
            "\n",
            "Epoch 00019: val_loss did not improve from 0.05790\n",
            "10000/10000 [==============================] - 1s 53us/step\n",
            "\n",
            " Test Accuracy: 0.9829\n"
          ],
          "name": "stdout"
        },
        {
          "output_type": "display_data",
          "data": {
            "image/png": "[encoded data removed]",
            "text/plain": [
              "<Figure size 432x288 with 1 Axes>"
            ]
          },
          "metadata": {
            "tags": []
          }
        }
      ]
    }
  ]
}
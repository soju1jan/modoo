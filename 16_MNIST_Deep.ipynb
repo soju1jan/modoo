{
  "nbformat": 4,
  "nbformat_minor": 0,
  "metadata": {
    "colab": {
      "name": "16_MNIST_Deep.ipynb",
      "provenance": [],
      "toc_visible": true,
      "mount_file_id": "1b7K9GAe-7vJ37N4okU8SAYrw2lrmzXbz",
      "authorship_tag": "ABX9TyNT3EpylWJOv0pueeKiLPjc",
      "include_colab_link": true
    },
    "kernelspec": {
      "name": "python3",
      "display_name": "Python 3"
    }
  },
  "cells": [
    {
      "cell_type": "markdown",
      "metadata": {
        "id": "view-in-github",
        "colab_type": "text"
      },
      "source": [
        "<a href=\"https://colab.research.google.com/github/soju1jan/modoo/blob/master/16_MNIST_Deep.ipynb\" target=\"_parent\"><img src=\"https://colab.research.google.com/assets/colab-badge.svg\" alt=\"Open In Colab\"/></a>"
      ]
    },
    {
      "cell_type": "code",
      "metadata": {
        "id": "cPG6TD0h_Wii",
        "colab_type": "code",
        "colab": {
          "base_uri": "https://localhost:8080/",
          "height": 1000
        },
        "outputId": "a2af2ef8-04e8-42e1-a8c6-f3690b1b0b8a"
      },
      "source": [
        "from keras.datasets import mnist\n",
        "from keras.utils import np_utils\n",
        "from keras.models import Sequential\n",
        "from keras.layers import Dense, Dropout, Flatten, Conv2D, MaxPooling2D\n",
        "from keras.callbacks import ModelCheckpoint,EarlyStopping\n",
        "\n",
        "import matplotlib.pyplot as plt\n",
        "import numpy\n",
        "import os\n",
        "import tensorflow as tf\n",
        "\n",
        "# seed 값 설정\n",
        "seed = 0\n",
        "numpy.random.seed(seed)\n",
        "tf.set_random_seed(seed)\n",
        "\n",
        "# 데이터 불러오기\n",
        "(X_train, Y_train), (X_test, Y_test) = mnist.load_data()\n",
        "\n",
        "X_train = X_train.reshape(X_train.shape[0], 28, 28, 1).astype('float32') / 255\n",
        "X_test = X_test.reshape(X_test.shape[0], 28, 28, 1).astype('float32') / 255\n",
        "\n",
        "Y_train = np_utils.to_categorical(Y_train)\n",
        "Y_test = np_utils.to_categorical(Y_test)\n",
        "\n",
        "# 컨볼루션 신경망 설정\n",
        "model = Sequential()\n",
        "model.add(Conv2D(32, kernel_size=(3, 3), input_shape=(28, 28, 1), activation='relu'))\n",
        "model.add(Conv2D(64, (3, 3), activation='relu'))\n",
        "model.add(MaxPooling2D(pool_size=2))\n",
        "model.add(Dropout(0.25))\n",
        "model.add(Flatten())\n",
        "model.add(Dense(128, activation='relu'))\n",
        "model.add(Dropout(0.5))\n",
        "model.add(Dense(10, activation='softmax'))\n",
        "\n",
        "model.compile(loss='categorical_crossentropy', \n",
        "              optimizer='adam',\n",
        "              metrics=['accuracy'])\n",
        "\n",
        "# 모델 저장 폴더 설정 => 구글 드라이브에 저장\n",
        "MODEL_DIR = '/content/drive/My Drive/10_colab_dataset/model4/'\n",
        "if not os.path.exists(MODEL_DIR): \n",
        "  os.mkdir(MODEL_DIR)\n",
        "\n",
        "modelpath=\"/content/drive/My Drive/10_colab_dataset/model4/{epoch:02d}-{val_loss:.4f}.hdf5\"\n",
        "checkpointer = ModelCheckpoint(filepath=modelpath, monitor='val_loss', \n",
        "                               verbose=1, save_best_only=True)\n",
        "early_stopping_callback = EarlyStopping(monitor='val_loss', patience=10)\n",
        "\n",
        "\n",
        "# 모델의 실행\n",
        "history = model.fit(X_train, Y_train, validation_data=(X_test, Y_test), epochs=30, \n",
        "                    batch_size=200, verbose=0, \n",
        "                    callbacks=[early_stopping_callback,checkpointer])\n",
        "\n",
        "# 테스트 정확도 출력\n",
        "print(\"\\n Test Accuracy: %.4f\" % (model.evaluate(X_test, Y_test) [1]))\n",
        "\n",
        "# 테스트셋의 오차\n",
        "y_vloss = history.history['val_loss']\n",
        "\n",
        "# 학습셋의 오차\n",
        "y_loss = history.history['loss']\n",
        "\n",
        "# 그래프로 표현\n",
        "x_len = numpy.arange(len(y_loss))\n",
        "plt.plot(x_len, y_vloss, marker='.', c=\"red\", label='Testset_loss')\n",
        "plt.plot(x_len, y_loss, marker='.', c=\"blue\", label='Trainset_loss')\n",
        "\n",
        "# 그래프에 그리드를 주고 레이블을 표시\n",
        "plt.legend(loc='upper right')\n",
        "plt.grid()\n",
        "plt.xlabel('epoch')\n",
        "plt.ylabel('loss')\n",
        "plt.show()"
      ],
      "execution_count": 4,
      "outputs": [
        {
          "output_type": "stream",
          "text": [
            "\n",
            "Epoch 00001: val_loss improved from inf to 0.05835, saving model to /content/drive/My Drive/10_colab_dataset/model4/01-0.0583.hdf5\n",
            "\n",
            "Epoch 00002: val_loss improved from 0.05835 to 0.04363, saving model to /content/drive/My Drive/10_colab_dataset/model4/02-0.0436.hdf5\n",
            "\n",
            "Epoch 00003: val_loss improved from 0.04363 to 0.03745, saving model to /content/drive/My Drive/10_colab_dataset/model4/03-0.0375.hdf5\n",
            "\n",
            "Epoch 00004: val_loss improved from 0.03745 to 0.03156, saving model to /content/drive/My Drive/10_colab_dataset/model4/04-0.0316.hdf5\n",
            "\n",
            "Epoch 00005: val_loss did not improve from 0.03156\n",
            "\n",
            "Epoch 00006: val_loss did not improve from 0.03156\n",
            "\n",
            "Epoch 00007: val_loss did not improve from 0.03156\n",
            "\n",
            "Epoch 00008: val_loss did not improve from 0.03156\n",
            "\n",
            "Epoch 00009: val_loss did not improve from 0.03156\n",
            "\n",
            "Epoch 00010: val_loss improved from 0.03156 to 0.02988, saving model to /content/drive/My Drive/10_colab_dataset/model4/10-0.0299.hdf5\n",
            "\n",
            "Epoch 00011: val_loss improved from 0.02988 to 0.02796, saving model to /content/drive/My Drive/10_colab_dataset/model4/11-0.0280.hdf5\n",
            "\n",
            "Epoch 00012: val_loss did not improve from 0.02796\n",
            "\n",
            "Epoch 00013: val_loss did not improve from 0.02796\n",
            "\n",
            "Epoch 00014: val_loss improved from 0.02796 to 0.02537, saving model to /content/drive/My Drive/10_colab_dataset/model4/14-0.0254.hdf5\n",
            "\n",
            "Epoch 00015: val_loss did not improve from 0.02537\n",
            "\n",
            "Epoch 00016: val_loss did not improve from 0.02537\n",
            "\n",
            "Epoch 00017: val_loss did not improve from 0.02537\n",
            "\n",
            "Epoch 00018: val_loss did not improve from 0.02537\n",
            "\n",
            "Epoch 00019: val_loss did not improve from 0.02537\n",
            "\n",
            "Epoch 00020: val_loss did not improve from 0.02537\n",
            "\n",
            "Epoch 00021: val_loss did not improve from 0.02537\n",
            "\n",
            "Epoch 00022: val_loss did not improve from 0.02537\n",
            "\n",
            "Epoch 00023: val_loss did not improve from 0.02537\n",
            "\n",
            "Epoch 00024: val_loss did not improve from 0.02537\n",
            "10000/10000 [==============================] - 7s 677us/step\n",
            "\n",
            " Test Accuracy: 0.9924\n"
          ],
          "name": "stdout"
        },
        {
          "output_type": "display_data",
          "data": {
            "image/png": "[encoded data removed]",
            "text/plain": [
              "<Figure size 432x288 with 1 Axes>"
            ]
          },
          "metadata": {
            "tags": []
          }
        }
      ]
    }
  ]
}